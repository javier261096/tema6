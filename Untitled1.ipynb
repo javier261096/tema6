{
  "nbformat": 4,
  "nbformat_minor": 0,
  "metadata": {
    "colab": {
      "name": "Untitled1.ipynb",
      "provenance": [],
      "authorship_tag": "ABX9TyNWh3NY+XtWK8XlvO0YBX3F",
      "include_colab_link": true
    },
    "kernelspec": {
      "name": "python3",
      "display_name": "Python 3"
    }
  },
  "cells": [
    {
      "cell_type": "markdown",
      "metadata": {
        "id": "view-in-github",
        "colab_type": "text"
      },
      "source": [
        "<a href=\"https://colab.research.google.com/github/javier261096/tema6/blob/main/Untitled1.ipynb\" target=\"_parent\"><img src=\"https://colab.research.google.com/assets/colab-badge.svg\" alt=\"Open In Colab\"/></a>"
      ]
    },
    {
      "cell_type": "code",
      "metadata": {
        "colab": {
          "base_uri": "https://localhost:8080/"
        },
        "id": "xQ2r95UCpgmw",
        "outputId": "45242b0a-f0db-426b-8551-340bdf54fefe"
      },
      "source": [
        "# realizar listas\r\n",
        "\r\n",
        "A = [89, 2, 3, 4, 5]\r\n",
        "A"
      ],
      "execution_count": 3,
      "outputs": [
        {
          "output_type": "execute_result",
          "data": {
            "text/plain": [
              "[89, 2, 3, 4, 5]"
            ]
          },
          "metadata": {
            "tags": []
          },
          "execution_count": 3
        }
      ]
    },
    {
      "cell_type": "code",
      "metadata": {
        "colab": {
          "base_uri": "https://localhost:8080/"
        },
        "id": "V0q1IQwzppcv",
        "outputId": "a2db1f6f-f23c-45c5-a782-3cb3d8602a7a"
      },
      "source": [
        "A[0] = 1\r\n",
        "A"
      ],
      "execution_count": 5,
      "outputs": [
        {
          "output_type": "execute_result",
          "data": {
            "text/plain": [
              "[1, 2, 3, 4, 5]"
            ]
          },
          "metadata": {
            "tags": []
          },
          "execution_count": 5
        }
      ]
    },
    {
      "cell_type": "code",
      "metadata": {
        "colab": {
          "base_uri": "https://localhost:8080/"
        },
        "id": "YMAeleR2p7pZ",
        "outputId": "3686c2d3-54c2-48d8-f567-614d4a0ec1de"
      },
      "source": [
        "#añadir elementos a listas\r\n",
        "\r\n",
        "A = [89, 2, 3, 4, 5]\r\n",
        "A"
      ],
      "execution_count": 6,
      "outputs": [
        {
          "output_type": "execute_result",
          "data": {
            "text/plain": [
              "[89, 2, 3, 4, 5]"
            ]
          },
          "metadata": {
            "tags": []
          },
          "execution_count": 6
        }
      ]
    },
    {
      "cell_type": "code",
      "metadata": {
        "colab": {
          "base_uri": "https://localhost:8080/"
        },
        "id": "-FeqN9esqkN8",
        "outputId": "c89c342c-0ec9-4061-b040-3aeba162bc32"
      },
      "source": [
        "A.append(30)\r\n",
        "A"
      ],
      "execution_count": 7,
      "outputs": [
        {
          "output_type": "execute_result",
          "data": {
            "text/plain": [
              "[89, 2, 3, 4, 5, 30]"
            ]
          },
          "metadata": {
            "tags": []
          },
          "execution_count": 7
        }
      ]
    },
    {
      "cell_type": "code",
      "metadata": {
        "colab": {
          "base_uri": "https://localhost:8080/"
        },
        "id": "modDaginqw70",
        "outputId": "967bcde8-2f16-40c9-cb1a-31e05a4c398b"
      },
      "source": [
        "# agregando vectores dentro de la misma lista \r\n",
        "\r\n",
        "A=[]\r\n",
        "A"
      ],
      "execution_count": 15,
      "outputs": [
        {
          "output_type": "execute_result",
          "data": {
            "text/plain": [
              "[]"
            ]
          },
          "metadata": {
            "tags": []
          },
          "execution_count": 15
        }
      ]
    },
    {
      "cell_type": "code",
      "metadata": {
        "colab": {
          "base_uri": "https://localhost:8080/"
        },
        "id": "oiN87n9OrQwJ",
        "outputId": "075487c9-6f40-42b3-98e1-95f3c21b7e8c"
      },
      "source": [
        "A.append([1, 2, 3])\r\n",
        "A"
      ],
      "execution_count": 16,
      "outputs": [
        {
          "output_type": "execute_result",
          "data": {
            "text/plain": [
              "[[1, 2, 3]]"
            ]
          },
          "metadata": {
            "tags": []
          },
          "execution_count": 16
        }
      ]
    },
    {
      "cell_type": "code",
      "metadata": {
        "colab": {
          "base_uri": "https://localhost:8080/"
        },
        "id": "dGGM_QZlrWPY",
        "outputId": "4757a5d8-2880-4702-93bb-022018ae8b27"
      },
      "source": [
        "A.append([67, 76, 89])\r\n",
        "A.append([5, 6, 7])\r\n",
        "A"
      ],
      "execution_count": 17,
      "outputs": [
        {
          "output_type": "execute_result",
          "data": {
            "text/plain": [
              "[[1, 2, 3], [67, 76, 89], [5, 6, 7]]"
            ]
          },
          "metadata": {
            "tags": []
          },
          "execution_count": 17
        }
      ]
    },
    {
      "cell_type": "code",
      "metadata": {
        "id": "AYl6FJworffR"
      },
      "source": [
        "# importar vectores colocados como matrices \r\n",
        "# import numpy as np\r\n",
        "# A = np.array(A)\r\n",
        "# A"
      ],
      "execution_count": 19,
      "outputs": []
    },
    {
      "cell_type": "code",
      "metadata": {
        "colab": {
          "base_uri": "https://localhost:8080/"
        },
        "id": "IKWuXD1GsCXO",
        "outputId": "9b346e7f-d041-403b-b99b-007b55f013c5"
      },
      "source": [
        "# Operaciones de alistas (accediento a un digito de una matriz o a una solamatriz completa)\r\n",
        "print(A[2])\r\n",
        "print(A[2][1])\r\n"
      ],
      "execution_count": 24,
      "outputs": [
        {
          "output_type": "stream",
          "text": [
            "[5 6 7]\n",
            "6\n"
          ],
          "name": "stdout"
        }
      ]
    },
    {
      "cell_type": "code",
      "metadata": {
        "colab": {
          "base_uri": "https://localhost:8080/"
        },
        "id": "02OsKAqisnhU",
        "outputId": "0f5016fe-ac68-4eba-c2d9-3d3736b4fb6c"
      },
      "source": [
        "B = [1, 2, 3, 4, 5, 6, 7, 8, 9, 10]\r\n",
        "B"
      ],
      "execution_count": 25,
      "outputs": [
        {
          "output_type": "execute_result",
          "data": {
            "text/plain": [
              "[1, 2, 3, 4, 5, 6, 7, 8, 9, 10]"
            ]
          },
          "metadata": {
            "tags": []
          },
          "execution_count": 25
        }
      ]
    },
    {
      "cell_type": "code",
      "metadata": {
        "colab": {
          "base_uri": "https://localhost:8080/"
        },
        "id": "OnHoKEvqtZX7",
        "outputId": "e8c32f26-cec2-4fc5-eecb-38da1a9c150b"
      },
      "source": [
        "Suma = sum(B)\r\n",
        "Suma"
      ],
      "execution_count": 27,
      "outputs": [
        {
          "output_type": "execute_result",
          "data": {
            "text/plain": [
              "55"
            ]
          },
          "metadata": {
            "tags": []
          },
          "execution_count": 27
        }
      ]
    },
    {
      "cell_type": "code",
      "metadata": {
        "colab": {
          "base_uri": "https://localhost:8080/"
        },
        "id": "LH8RoST8tqat",
        "outputId": "ff8efffb-53cd-4d8b-9c31-1c59afad014e"
      },
      "source": [
        "longitud = len(B)\r\n",
        "longitud"
      ],
      "execution_count": 29,
      "outputs": [
        {
          "output_type": "execute_result",
          "data": {
            "text/plain": [
              "10"
            ]
          },
          "metadata": {
            "tags": []
          },
          "execution_count": 29
        }
      ]
    },
    {
      "cell_type": "code",
      "metadata": {
        "colab": {
          "base_uri": "https://localhost:8080/"
        },
        "id": "7bvFbSa4tyzj",
        "outputId": "1e7c7866-77d4-41a5-f663-7b5c22647ef1"
      },
      "source": [
        "#manera 1 de sacar promedio\r\n",
        "Promedio = sum(B)/len(B)\r\n",
        "Promedio"
      ],
      "execution_count": 31,
      "outputs": [
        {
          "output_type": "execute_result",
          "data": {
            "text/plain": [
              "5.5"
            ]
          },
          "metadata": {
            "tags": []
          },
          "execution_count": 31
        }
      ]
    },
    {
      "cell_type": "code",
      "metadata": {
        "colab": {
          "base_uri": "https://localhost:8080/"
        },
        "id": "AiS5yy5ZuBjp",
        "outputId": "4106ef3b-0012-484f-eae7-c966e5d7a652"
      },
      "source": [
        "# manera 2 para sacar promedio importando libreria\r\n",
        "import statistics as st\r\n",
        "Promedio_2 = st.mean(B)\r\n",
        "Promedio_2"
      ],
      "execution_count": 32,
      "outputs": [
        {
          "output_type": "execute_result",
          "data": {
            "text/plain": [
              "5.5"
            ]
          },
          "metadata": {
            "tags": []
          },
          "execution_count": 32
        }
      ]
    },
    {
      "cell_type": "code",
      "metadata": {
        "colab": {
          "base_uri": "https://localhost:8080/"
        },
        "id": "izuvIrNluZSb",
        "outputId": "ee2460c0-4acb-4b05-f7ce-1b54f65c13e1"
      },
      "source": [
        "# manera 3 para sacar promedio importando libreria\r\n",
        "import statistics\r\n",
        "Promedio_2 = statistics.mean(B)\r\n",
        "Promedio_2"
      ],
      "execution_count": 33,
      "outputs": [
        {
          "output_type": "execute_result",
          "data": {
            "text/plain": [
              "5.5"
            ]
          },
          "metadata": {
            "tags": []
          },
          "execution_count": 33
        }
      ]
    },
    {
      "cell_type": "code",
      "metadata": {
        "colab": {
          "base_uri": "https://localhost:8080/"
        },
        "id": "yoWHu7f6uyRL",
        "outputId": "0d5bf5b2-e907-4932-9553-c68888f58c57"
      },
      "source": [
        "# listas con string\r\n",
        "\r\n",
        "string = ['abc', 'def', 'ghi', 'jkl']\r\n",
        "print(string[3][1])"
      ],
      "execution_count": 38,
      "outputs": [
        {
          "output_type": "stream",
          "text": [
            "k\n"
          ],
          "name": "stdout"
        }
      ]
    },
    {
      "cell_type": "code",
      "metadata": {
        "colab": {
          "base_uri": "https://localhost:8080/"
        },
        "id": "lAravrTVvNS_",
        "outputId": "c781b29c-000f-4798-e026-a781d4df7122"
      },
      "source": [
        "longitud = len(string)\r\n",
        "longitud"
      ],
      "execution_count": 39,
      "outputs": [
        {
          "output_type": "execute_result",
          "data": {
            "text/plain": [
              "4"
            ]
          },
          "metadata": {
            "tags": []
          },
          "execution_count": 39
        }
      ]
    },
    {
      "cell_type": "code",
      "metadata": {
        "colab": {
          "base_uri": "https://localhost:8080/"
        },
        "id": "oMWw5L6xvw5S",
        "outputId": "b7f2f03a-956e-47c3-95d3-c156dd84afde"
      },
      "source": [
        "print(string[0:2])"
      ],
      "execution_count": 40,
      "outputs": [
        {
          "output_type": "stream",
          "text": [
            "['abc', 'def']\n"
          ],
          "name": "stdout"
        }
      ]
    },
    {
      "cell_type": "code",
      "metadata": {
        "colab": {
          "base_uri": "https://localhost:8080/"
        },
        "id": "SAtPRxFMv8OS",
        "outputId": "d641fa30-c17c-4ebe-dd94-d5f9d97314ce"
      },
      "source": [
        "print(string[0][0:2])"
      ],
      "execution_count": 41,
      "outputs": [
        {
          "output_type": "stream",
          "text": [
            "ab\n"
          ],
          "name": "stdout"
        }
      ]
    },
    {
      "cell_type": "code",
      "metadata": {
        "id": "qsR2Wg5YwMJ1"
      },
      "source": [
        "# Diccionarios\r\n",
        "\r\n",
        "Datos_alumno = {\r\n",
        "          'Nombre' : 'Octavio',\r\n",
        "          'Apellido' : 'Paz',\r\n",
        "          'Matricula' : '180985',\r\n",
        "          'Horario' : 'Matutino',\r\n",
        "          'Beca' : 'Si'\r\n",
        "}"
      ],
      "execution_count": 46,
      "outputs": []
    },
    {
      "cell_type": "code",
      "metadata": {
        "colab": {
          "base_uri": "https://localhost:8080/"
        },
        "id": "4_uEXTxXxg0v",
        "outputId": "8eb01dc6-3226-4522-d2a0-3914e8178dff"
      },
      "source": [
        "print(Datos_alumno['Matricula'])"
      ],
      "execution_count": 47,
      "outputs": [
        {
          "output_type": "stream",
          "text": [
            "180985\n"
          ],
          "name": "stdout"
        }
      ]
    },
    {
      "cell_type": "code",
      "metadata": {
        "colab": {
          "base_uri": "https://localhost:8080/"
        },
        "id": "wDgyLp6lxycb",
        "outputId": "9aeeecfa-aaeb-40ab-edee-cd1d0f416897"
      },
      "source": [
        "print(Datos_alumno['Apellido'])"
      ],
      "execution_count": 48,
      "outputs": [
        {
          "output_type": "stream",
          "text": [
            "Paz\n"
          ],
          "name": "stdout"
        }
      ]
    },
    {
      "cell_type": "code",
      "metadata": {
        "colab": {
          "base_uri": "https://localhost:8080/"
        },
        "id": "IGPsxVjax6Ru",
        "outputId": "b38cf2a4-791d-4c35-ce25-b48c1a035617"
      },
      "source": [
        "print(Datos_alumno['Beca'])"
      ],
      "execution_count": 49,
      "outputs": [
        {
          "output_type": "stream",
          "text": [
            "Si\n"
          ],
          "name": "stdout"
        }
      ]
    },
    {
      "cell_type": "code",
      "metadata": {
        "id": "68CuU-nCyER0"
      },
      "source": [
        "Datos_alumno.update({'Materias':['Fisica', 'Matematicas', 'quimica']})"
      ],
      "execution_count": 55,
      "outputs": []
    },
    {
      "cell_type": "code",
      "metadata": {
        "colab": {
          "base_uri": "https://localhost:8080/"
        },
        "id": "2u-lJekkymOB",
        "outputId": "60b9c1dc-c72e-4006-dcf1-d3fcd505f940"
      },
      "source": [
        "Datos_alumno"
      ],
      "execution_count": 56,
      "outputs": [
        {
          "output_type": "execute_result",
          "data": {
            "text/plain": [
              "{'Apellido': 'Paz',\n",
              " 'Beca': 'Si',\n",
              " 'Horario': 'Matutino',\n",
              " 'Materias': ['Fisica', 'Matematicas', 'quimica'],\n",
              " 'Matricula': '180985',\n",
              " 'Nombre': 'Octavio',\n",
              " 'materias': ['Fisica', 'Matematicas', 'quimica']}"
            ]
          },
          "metadata": {
            "tags": []
          },
          "execution_count": 56
        }
      ]
    },
    {
      "cell_type": "code",
      "metadata": {
        "colab": {
          "base_uri": "https://localhost:8080/"
        },
        "id": "aLccoZU5yqAf",
        "outputId": "b09019dc-db6a-4299-d5c9-ea8a8aa7c9d5"
      },
      "source": [
        "print(Datos_alumno['Materias'])"
      ],
      "execution_count": 58,
      "outputs": [
        {
          "output_type": "stream",
          "text": [
            "['Fisica', 'Matematicas', 'quimica']\n"
          ],
          "name": "stdout"
        }
      ]
    },
    {
      "cell_type": "code",
      "metadata": {
        "id": "rMOWWAiQzNGB"
      },
      "source": [
        "# Diccionarios concatenados o anidados\r\n",
        "Pacientes = [\r\n",
        "    {\r\n",
        "          'Nombre' : 'Juan',\r\n",
        "          'Seguro' : 'Si',\r\n",
        "          'ID_seguro' : '180985',\r\n",
        "          'Covid' : 'Si',\r\n",
        "          'G_sanguineo' : 'AB+'\r\n",
        "    },\r\n",
        "    {\r\n",
        "          'Nombre' : 'Maria',\r\n",
        "          'Seguro' : 'Si',\r\n",
        "          'ID_seguro' : '4654985',\r\n",
        "          'Covid' : 'No',\r\n",
        "          'G_sanguineo' : 'A+'\r\n",
        "    },\r\n",
        "    {\r\n",
        "          'Nombre' : 'Ernesto',\r\n",
        "          'Seguro' : 'No',\r\n",
        "          'ID_seguro' : 'N/A',\r\n",
        "          'Covid' : 'No',\r\n",
        "          'G_sanguineo' : 'B+'\r\n",
        "    }                           \r\n",
        "            ]\r\n"
      ],
      "execution_count": 59,
      "outputs": []
    },
    {
      "cell_type": "code",
      "metadata": {
        "colab": {
          "base_uri": "https://localhost:8080/"
        },
        "id": "ldPAuum00nNH",
        "outputId": "218630b8-d0a3-4717-a8c2-295e0d5f1299"
      },
      "source": [
        "Pacientes[0]"
      ],
      "execution_count": 60,
      "outputs": [
        {
          "output_type": "execute_result",
          "data": {
            "text/plain": [
              "{'Covid': 'Si',\n",
              " 'G_sanguineo': 'AB+',\n",
              " 'ID_seguro': '180985',\n",
              " 'Nombre': 'Juan',\n",
              " 'Seguro': 'Si'}"
            ]
          },
          "metadata": {
            "tags": []
          },
          "execution_count": 60
        }
      ]
    },
    {
      "cell_type": "code",
      "metadata": {
        "colab": {
          "base_uri": "https://localhost:8080/"
        },
        "id": "B7pbtikz0q7q",
        "outputId": "7c275c34-66ff-4c00-b19f-2edd3f36de3d"
      },
      "source": [
        "print(Pacientes[1]['Nombre'])\r\n",
        "print(Pacientes[1]['Seguro'])\r\n",
        "print(Pacientes[1]['ID_seguro'])"
      ],
      "execution_count": 69,
      "outputs": [
        {
          "output_type": "stream",
          "text": [
            "Maria\n",
            "Si\n",
            "4654985\n"
          ],
          "name": "stdout"
        }
      ]
    },
    {
      "cell_type": "code",
      "metadata": {
        "colab": {
          "base_uri": "https://localhost:8080/"
        },
        "id": "FKuL3LHW08nM",
        "outputId": "890ec8a8-b627-4804-ae50-dc6b36f73fe9"
      },
      "source": [
        "print(Pacientes[2]['Seguro'])\r\n",
        "print(Pacientes[2]['Covid'])\r\n",
        "print(Pacientes[2]['G_sanguineo'])"
      ],
      "execution_count": 73,
      "outputs": [
        {
          "output_type": "stream",
          "text": [
            "No\n",
            "No\n",
            "B+\n"
          ],
          "name": "stdout"
        }
      ]
    },
    {
      "cell_type": "code",
      "metadata": {
        "colab": {
          "base_uri": "https://localhost:8080/"
        },
        "id": "_FnAOle92Hpd",
        "outputId": "a5eead44-6a98-4935-d923-12ce4dd22d4a"
      },
      "source": [
        "print(Pacientes[0]['G_sanguineo'])\r\n"
      ],
      "execution_count": 74,
      "outputs": [
        {
          "output_type": "stream",
          "text": [
            "AB+\n"
          ],
          "name": "stdout"
        }
      ]
    },
    {
      "cell_type": "markdown",
      "metadata": {
        "id": "pkXgpw1Y4z5w"
      },
      "source": [
        "Tarea\r\n",
        "*Diccionario 1*"
      ]
    },
    {
      "cell_type": "code",
      "metadata": {
        "colab": {
          "base_uri": "https://localhost:8080/"
        },
        "id": "CZVIlog52bvy",
        "outputId": "5ecaae47-8d4f-4908-bc27-2c09106aeefc"
      },
      "source": [
        "# LLEGA EL PRIMER CLIENTE Y SE INGRESAN SUS DATOS Y AUTOMATICAMENTE SE GUARDAN EN EL DICCIONARIO\r\n",
        "\r\n",
        "Placa_1 = input( 'Placa   ')\r\n",
        "Modelo_1 = input(  'Modelo   ')\r\n",
        "Año_1 = input(  'Año   ')"
      ],
      "execution_count": 135,
      "outputs": [
        {
          "output_type": "stream",
          "text": [
            "Placa   2008\n",
            "Modelo   ferrary\n",
            "Año   2021\n"
          ],
          "name": "stdout"
        }
      ]
    },
    {
      "cell_type": "code",
      "metadata": {
        "id": "nWYyTEaa5MS9"
      },
      "source": [
        "\r\n",
        "# Empresa cochecitos\r\n",
        "Chetos = [\r\n",
        "          {\r\n",
        "          'Placa' : '182055655',\r\n",
        "          'Modelo' : 'Audi',\r\n",
        "          'Año' : '1985'\r\n",
        "},\r\n",
        "{\r\n",
        "          'Placa' : '8625445566',\r\n",
        "          'Modelo' : 'chevy',\r\n",
        "          'Año' : '2001'\r\n",
        "},\r\n",
        "{\r\n",
        "          'Placa' : Placa_1,\r\n",
        "          'Modelo1' : Modelo_1,\r\n",
        "          'Año1' : Año_1\r\n",
        "},\r\n",
        "{\r\n",
        "           'Placa' : '',\r\n",
        "          'Modelo' : '',\r\n",
        "          'Año' : ''\r\n",
        "}\r\n",
        "]\r\n"
      ],
      "execution_count": 136,
      "outputs": []
    },
    {
      "cell_type": "code",
      "metadata": {
        "colab": {
          "base_uri": "https://localhost:8080/"
        },
        "id": "QyEzd2_38_fS",
        "outputId": "23f1658b-46bc-4736-faac-d605c43570e5"
      },
      "source": [
        "# LLEGA UN SEGUNDO CLIENTE Y AL REGISTAR SUS DATOS SE IMPLEMENTA UN UPDATE PARA AGREGARLOS AL DICCIONARIO y se imprime una nota con todos los autos en el taller\r\n",
        "Placa_2 = input('Placa   ')\r\n",
        "Modelo_2 = input('Modelo   ')\r\n",
        "Año_2 = input('Año   ')\r\n",
        "\r\n",
        "Chetos[3].update({'Placa':[Placa_2]})\r\n",
        "Chetos[3].update({'Modelo':[Modelo_2]})\r\n",
        "Chetos[3].update({'Año':[Año_2]})\r\n",
        "\r\n",
        "print(Chetos)"
      ],
      "execution_count": 137,
      "outputs": [
        {
          "output_type": "stream",
          "text": [
            "Placa   2009\n",
            "Modelo   mazda\n",
            "Año   2023\n",
            "[{'Placa': '182055655', 'Modelo': 'Audi', 'Año': '1985'}, {'Placa': '8625445566', 'Modelo': 'chevy', 'Año': '2001'}, {'Placa': '2008', 'Modelo1': 'ferrary', 'Año1': '2021'}, {'Placa': ['2009'], 'Modelo': ['mazda'], 'Año': ['2023']}]\n"
          ],
          "name": "stdout"
        }
      ]
    },
    {
      "cell_type": "code",
      "metadata": {
        "colab": {
          "base_uri": "https://localhost:8080/"
        },
        "id": "Lyk8wWtpIbGT",
        "outputId": "8eb309f9-adbf-495f-bf3a-b1d7af6eaa0a"
      },
      "source": [
        "# PERO EL JEFE LE PIDE QUE SOLO LE DE EL DATO DEL ULTIMO COCHE QUE LLEGO\r\n",
        "\r\n",
        "#primera opcion de muestra\r\n",
        "print(Chetos[3])                    \r\n"
      ],
      "execution_count": 147,
      "outputs": [
        {
          "output_type": "stream",
          "text": [
            "{'Placa': ['2009'], 'Modelo': ['mazda'], 'Año': ['2023']}\n"
          ],
          "name": "stdout"
        }
      ]
    },
    {
      "cell_type": "code",
      "metadata": {
        "colab": {
          "base_uri": "https://localhost:8080/"
        },
        "id": "6pm4k7NNL89S",
        "outputId": "7c2a38b1-6843-48a5-e615-989e156acfcd"
      },
      "source": [
        "#segunda opcion de muestra\r\n",
        "print('Placas',Chetos[3]['Placa'])\r\n",
        "print('Modelo',Chetos[3]['Modelo'])\r\n",
        "print('Año',Chetos[3]['Año'])"
      ],
      "execution_count": 148,
      "outputs": [
        {
          "output_type": "stream",
          "text": [
            "Placas ['2009']\n",
            "Modelo ['mazda']\n",
            "Año ['2023']\n"
          ],
          "name": "stdout"
        }
      ]
    },
    {
      "cell_type": "code",
      "metadata": {
        "id": "w5-Ply66PsZH"
      },
      "source": [
        ""
      ],
      "execution_count": null,
      "outputs": []
    }
  ]
}